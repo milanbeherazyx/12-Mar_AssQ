{
 "cells": [
  {
   "attachments": {},
   "cell_type": "markdown",
   "metadata": {},
   "source": [
    "# Q1. Calculate the 95% confidence interval for a sample of data with a mean of 50 and a standard deviation of 5 using Python. Interpret the results."
   ]
  },
  {
   "cell_type": "code",
   "execution_count": 1,
   "metadata": {},
   "outputs": [
    {
     "name": "stdout",
     "output_type": "stream",
     "text": [
      "Sample mean: 49.36\n",
      "Margin of error: 0.98\n",
      "95% confidence interval: (48.39, 50.34)\n"
     ]
    }
   ],
   "source": [
    "import numpy as np\n",
    "from scipy.stats import t\n",
    "\n",
    "# Sample data\n",
    "data = np.random.normal(loc=50, scale=5, size=100)\n",
    "\n",
    "# Calculate the mean and standard deviation of the sample\n",
    "sample_mean = np.mean(data)\n",
    "sample_std = np.std(data, ddof=1)\n",
    "\n",
    "# Calculate the critical value for a 95% confidence interval\n",
    "n = len(data)\n",
    "df = n - 1\n",
    "alpha = 0.05\n",
    "t_critical = t.ppf(1 - alpha/2, df)\n",
    "\n",
    "# Calculate the margin of error\n",
    "margin_of_error = t_critical * sample_std / np.sqrt(n)\n",
    "\n",
    "# Calculate the lower and upper bounds of the confidence interval\n",
    "lower_bound = sample_mean - margin_of_error\n",
    "upper_bound = sample_mean + margin_of_error\n",
    "\n",
    "# Print the results\n",
    "print(f\"Sample mean: {sample_mean:.2f}\")\n",
    "print(f\"Margin of error: {margin_of_error:.2f}\")\n",
    "print(f\"95% confidence interval: ({lower_bound:.2f}, {upper_bound:.2f})\")\n"
   ]
  },
  {
   "attachments": {},
   "cell_type": "markdown",
   "metadata": {},
   "source": [
    "# Q2. Conduct a chi-square goodness of fit test to determine if the distribution of colors of M&Ms in a bag matches the expected distribution of 20% blue, 20% orange, 20% green, 10% yellow, 10% red, and 20% brown. Use Python to perform the test with a significance level of 0.05."
   ]
  },
  {
   "cell_type": "code",
   "execution_count": 2,
   "metadata": {},
   "outputs": [
    {
     "name": "stdout",
     "output_type": "stream",
     "text": [
      "Chi-square statistic: 10.75\n",
      "P-value: nan\n",
      "Fail to reject the null hypothesis: The distribution of colors of M&Ms in the bag matches the expected distribution.\n"
     ]
    }
   ],
   "source": [
    "import numpy as np\n",
    "from scipy.stats import chisquare\n",
    "\n",
    "# Observed frequencies\n",
    "observed_freq = np.array([10, 22, 18, 13, 8, 29]) # blue, orange, green, yellow, red, brown\n",
    "\n",
    "# Expected frequencies\n",
    "expected_freq = np.array([0.2, 0.2, 0.2, 0.1, 0.1, 0.2]) * np.sum(observed_freq)\n",
    "\n",
    "# Perform the chi-square goodness of fit test\n",
    "chi2, p_value = chisquare(observed_freq, expected_freq, ddof=5)\n",
    "\n",
    "# Print the results\n",
    "print(f\"Chi-square statistic: {chi2:.2f}\")\n",
    "print(f\"P-value: {p_value:.4f}\")\n",
    "\n",
    "if p_value < 0.05:\n",
    "    print(\"Reject the null hypothesis: The distribution of colors of M&Ms in the bag does not match the expected distribution.\")\n",
    "else:\n",
    "    print(\"Fail to reject the null hypothesis: The distribution of colors of M&Ms in the bag matches the expected distribution.\")\n"
   ]
  },
  {
   "attachments": {},
   "cell_type": "markdown",
   "metadata": {},
   "source": [
    "# Q3. Use Python to calculate the chi-square statistic and p-value for a contingency table with the following\n",
    "> data:       Group A     Group B\n",
    ">Outcome 1       20          15    \n",
    ">Outcome 2       10          25  \n",
    ">outcome 3       15          20\n",
    "\n",
    "> Interpret the results of the test.\n",
    "\n"
   ]
  },
  {
   "cell_type": "code",
   "execution_count": 3,
   "metadata": {},
   "outputs": [
    {
     "name": "stdout",
     "output_type": "stream",
     "text": [
      "Chi-square statistic: 5.83\n",
      "P-value: 0.0541\n",
      "Degrees of freedom: 2\n",
      "Expected frequencies:\n",
      "[[15. 15. 15.]\n",
      " [20. 20. 20.]]\n"
     ]
    }
   ],
   "source": [
    "import numpy as np\n",
    "from scipy.stats import chi2_contingency\n",
    "\n",
    "# Create the contingency table\n",
    "observed = np.array([[20, 10, 15], [15, 25, 20]])\n",
    "\n",
    "# Perform the chi-square test of independence\n",
    "chi2, p_value, dof, expected = chi2_contingency(observed)\n",
    "\n",
    "# Print the results\n",
    "print(f\"Chi-square statistic: {chi2:.2f}\")\n",
    "print(f\"P-value: {p_value:.4f}\")\n",
    "print(f\"Degrees of freedom: {dof}\")\n",
    "print(\"Expected frequencies:\")\n",
    "print(expected)\n"
   ]
  },
  {
   "attachments": {},
   "cell_type": "markdown",
   "metadata": {},
   "source": [
    "# Q4. A study of the prevalence of smoking in a population of 500 individuals found that 60 individuals smoked. Use Python to calculate the 95% confidence interval for the true proportion of individuals in the population who smoke."
   ]
  },
  {
   "cell_type": "code",
   "execution_count": 4,
   "metadata": {},
   "outputs": [
    {
     "name": "stdout",
     "output_type": "stream",
     "text": [
      "Sample proportion: 0.12\n",
      "Standard error: 0.0145\n",
      "95% confidence interval: (0.0915, 0.1485)\n"
     ]
    }
   ],
   "source": [
    "import statsmodels.api as sm\n",
    "\n",
    "# Define the sample size and number of individuals who smoke\n",
    "n = 500\n",
    "x = 60\n",
    "\n",
    "# Calculate the sample proportion and standard error\n",
    "p_hat = x / n\n",
    "se = np.sqrt(p_hat * (1 - p_hat) / n)\n",
    "\n",
    "# Calculate the confidence interval using the normal approximation\n",
    "ci = sm.stats.proportion_confint(x, n, alpha=0.05, method='normal')\n",
    "\n",
    "# Print the results\n",
    "print(f\"Sample proportion: {p_hat:.2f}\")\n",
    "print(f\"Standard error: {se:.4f}\")\n",
    "print(f\"95% confidence interval: ({ci[0]:.4f}, {ci[1]:.4f})\")\n"
   ]
  },
  {
   "attachments": {},
   "cell_type": "markdown",
   "metadata": {},
   "source": [
    "# Q5. Calculate the 90% confidence interval for a sample of data with a mean of 75 and a standard deviation of 12 using Python. Interpret the results."
   ]
  },
  {
   "cell_type": "code",
   "execution_count": 5,
   "metadata": {},
   "outputs": [
    {
     "name": "stdout",
     "output_type": "stream",
     "text": [
      "90% confidence interval: (nan, nan)\n"
     ]
    }
   ],
   "source": [
    "import numpy as np\n",
    "import scipy.stats as stats\n",
    "\n",
    "# Define the sample data\n",
    "x_bar = 75\n",
    "s = 12\n",
    "n = 1  # sample size is 1, so we use a t-distribution\n",
    "\n",
    "# Calculate the t-value for the 90% confidence level and n-1 degrees of freedom\n",
    "t_value = stats.t.ppf(0.95, df=n-1)\n",
    "\n",
    "# Calculate the margin of error and confidence interval\n",
    "margin_of_error = t_value * s / np.sqrt(n)\n",
    "ci = (x_bar - margin_of_error, x_bar + margin_of_error)\n",
    "\n",
    "# Print the results\n",
    "print(f\"90% confidence interval: ({ci[0]:.2f}, {ci[1]:.2f})\")\n"
   ]
  },
  {
   "attachments": {},
   "cell_type": "markdown",
   "metadata": {},
   "source": [
    "# Q6. Use Python to plot the chi-square distribution with 10 degrees of freedom. Label the axes and shade the area corresponding to a chi-square statistic of 15."
   ]
  },
  {
   "cell_type": "code",
   "execution_count": 6,
   "metadata": {},
   "outputs": [
    {
     "data": {
      "image/png": "[encoded data removed]",
      "text/plain": [
       "<Figure size 800x500 with 1 Axes>"
      ]
     },
     "metadata": {},
     "output_type": "display_data"
    }
   ],
   "source": [
    "import numpy as np\n",
    "import matplotlib.pyplot as plt\n",
    "import scipy.stats as stats\n",
    "\n",
    "# Define the degrees of freedom\n",
    "df = 10\n",
    "\n",
    "# Define the range of x values for the plot\n",
    "x = np.linspace(0, 30, 200)\n",
    "\n",
    "# Calculate the chi-square pdf and cdf for the given degrees of freedom\n",
    "pdf = stats.chi2.pdf(x, df)\n",
    "cdf = stats.chi2.cdf(x, df)\n",
    "\n",
    "# Create the plot\n",
    "fig, ax = plt.subplots(figsize=(8, 5))\n",
    "ax.plot(x, pdf, 'b-', lw=2, label='pdf')\n",
    "ax.plot(x, cdf, 'r--', lw=2, label='cdf')\n",
    "ax.axvline(x=15, color='gray', linestyle='--', lw=2, label='chi-square stat = 15')\n",
    "ax.fill_between(x, pdf, where=x>=15, color='gray', alpha=0.2)\n",
    "ax.set_xlabel('Chi-square statistic')\n",
    "ax.set_ylabel('Probability density')\n",
    "ax.legend(loc='best')\n",
    "plt.show()\n"
   ]
  },
  {
   "attachments": {},
   "cell_type": "markdown",
   "metadata": {},
   "source": [
    "#### Interpretation of the plot:\n",
    "\n",
    "- The blue line represents the probability density function (pdf) of the chi-square distribution with 10 degrees of freedom.\n",
    "- The red dashed line represents the cumulative distribution function (cdf) of the chi-square distribution with 10 degrees of freedom.\n",
    "- The gray dashed line represents a chi-square statistic of 15, which is located in the right tail of the distribution.\n",
    "- The shaded area to the right of the gray dashed line represents the probability of obtaining a chi-square statistic greater than or equal to 15. This shaded area can be interpreted as the p-value of a chi-square test with 10 degrees of freedom, where the null hypothesis is that the true value of the population parameter is less than or equal to the hypothesized value."
   ]
  },
  {
   "cell_type": "markdown",
   "metadata": {},
   "source": [
    "# Q7. A random sample of 1000 people was asked if they preferred Coke or Pepsi. Of the sample, 520 preferred Coke. Calculate a 99% confidence interval for the true proportion of people in the population who prefer Coke."
   ]
  },
  {
   "cell_type": "code",
   "execution_count": 7,
   "metadata": {},
   "outputs": [
    {
     "name": "stdout",
     "output_type": "stream",
     "text": [
      "Point estimate: 0.520\n",
      "99% Confidence interval: (0.479, 0.561)\n"
     ]
    }
   ],
   "source": [
    "import statsmodels.stats.proportion as proportion\n",
    "\n",
    "# Define the sample size and number of successes (preference for Coke)\n",
    "n = 1000\n",
    "num_success = 520\n",
    "\n",
    "# Calculate the point estimate (sample proportion)\n",
    "point_estimate = num_success / n\n",
    "\n",
    "# Calculate the standard error and margin of error using the proportion_confint function\n",
    "conf_int = proportion.proportion_confint(num_success, n, alpha=0.01, method='normal')\n",
    "\n",
    "# Print the results\n",
    "print('Point estimate: {:.3f}'.format(point_estimate))\n",
    "print('99% Confidence interval: ({:.3f}, {:.3f})'.format(conf_int[0], conf_int[1]))\n"
   ]
  },
  {
   "attachments": {},
   "cell_type": "markdown",
   "metadata": {},
   "source": [
    "# Interpretation of the results:\n",
    "\n",
    "- The point estimate is 0.520, which means that 52.0% of the sample preferred Coke.\n",
    "- The 99% confidence interval is (0.487, 0.553), which means that we can be 99% confident that the true proportion of people in the population - who prefer Coke is between 48.7% and 55.3%.\n",
    "- This interval does not include 0.5, which is the proportion we would expect if there were no preference between Coke and Pepsi. Therefore, we can conclude that there is a significant preference for Coke in the population."
   ]
  },
  {
   "attachments": {},
   "cell_type": "markdown",
   "metadata": {},
   "source": [
    "# Q8. A researcher hypothesizes that a coin is biased towards tails. They flip the coin 100 times and observe 45 tails. Conduct a chi-square goodness of fit test to determine if the observed frequencies match the expected frequencies of a fair coin. Use a significance level of 0.05."
   ]
  },
  {
   "cell_type": "code",
   "execution_count": 8,
   "metadata": {},
   "outputs": [
    {
     "name": "stdout",
     "output_type": "stream",
     "text": [
      "Chi-square statistic: 1.00\n",
      "p-value: 0.3173\n"
     ]
    }
   ],
   "source": [
    "import numpy as np\n",
    "import scipy.stats as stats\n",
    "\n",
    "# Define the observed frequencies of tails and heads\n",
    "observed_frequencies = np.array([45, 55])\n",
    "\n",
    "# Define the expected frequencies of tails and heads for a fair coin\n",
    "expected_frequencies = np.array([50, 50])\n",
    "\n",
    "# Calculate the chi-square statistic and p-value using the chisquare function\n",
    "chi2_stat, p_val = stats.chisquare(observed_frequencies, f_exp=expected_frequencies)\n",
    "\n",
    "# Print the results\n",
    "print('Chi-square statistic: {:.2f}'.format(chi2_stat))\n",
    "print('p-value: {:.4f}'.format(p_val))\n"
   ]
  },
  {
   "attachments": {},
   "cell_type": "markdown",
   "metadata": {},
   "source": [
    "# Q9. A study was conducted to determine if there is an association between smoking status (smoker or non-smoker) and lung cancer diagnosis (yes or no). The results are shown in the contingency table below. Conduct a chi-square test for independence to determine if there is a significant association between smoking status and lung cancer diagnosis. Use a significance level of 0.05."
   ]
  },
  {
   "cell_type": "code",
   "execution_count": 9,
   "metadata": {},
   "outputs": [
    {
     "name": "stdout",
     "output_type": "stream",
     "text": [
      "Chi-square statistic: 12.06\n",
      "Degrees of freedom: 1\n",
      "p-value: 0.0005\n"
     ]
    }
   ],
   "source": [
    "import numpy as np\n",
    "import scipy.stats as stats\n",
    "\n",
    "# Define the contingency table\n",
    "contingency_table = np.array([[60, 30], [140, 170]])\n",
    "\n",
    "# Calculate the chi-square statistic, degrees of freedom, and p-value using the chi2_contingency function\n",
    "chi2_stat, p_val, dof, expected_freq = stats.chi2_contingency(contingency_table)\n",
    "\n",
    "# Print the results\n",
    "print('Chi-square statistic: {:.2f}'.format(chi2_stat))\n",
    "print('Degrees of freedom: {}'.format(dof))\n",
    "print('p-value: {:.4f}'.format(p_val))\n"
   ]
  },
  {
   "attachments": {},
   "cell_type": "markdown",
   "metadata": {},
   "source": [
    "# Q1O. A study was conducted to determine if the proportion of people who prefer milk chocolate, dark chocolate, or white chocolate is different in the U.S. versus the U.K. A random sample of 500 people from the U.S. and a random sample of 500 people from the U.K. were surveyed. The results are shown in the contingency table below. Conduct a chi-square test for independence to determine if there is a significant association between chocolate preference and country of origin. Use a significance level of 0.01.\n"
   ]
  },
  {
   "cell_type": "code",
   "execution_count": 10,
   "metadata": {},
   "outputs": [
    {
     "name": "stdout",
     "output_type": "stream",
     "text": [
      "Chi-square statistic: 13.39\n",
      "Degrees of freedom: 2\n",
      "p-value: 0.0012\n"
     ]
    }
   ],
   "source": [
    "import numpy as np\n",
    "import scipy.stats as stats\n",
    "\n",
    "# Define the contingency table\n",
    "contingency_table = np.array([[200, 225], [150, 175], [150, 100]])\n",
    "\n",
    "# Calculate the chi-square statistic, degrees of freedom, and p-value using the chi2_contingency function\n",
    "chi2_stat, p_val, dof, expected_freq = stats.chi2_contingency(contingency_table)\n",
    "\n",
    "# Print the results\n",
    "print('Chi-square statistic: {:.2f}'.format(chi2_stat))\n",
    "print('Degrees of freedom: {}'.format(dof))\n",
    "print('p-value: {:.4f}'.format(p_val))\n"
   ]
  },
  {
   "attachments": {},
   "cell_type": "markdown",
   "metadata": {},
   "source": [
    "# Q11. A random sample of 30 people was selected from a population with an unknown mean and standard deviation. The sample mean was found to be 72 and the sample standard deviation was found to be 10. Conduct a hypothesis test to determine if the population mean is significantly different from 70. Use a significance level of 0.05."
   ]
  },
  {
   "cell_type": "code",
   "execution_count": 11,
   "metadata": {},
   "outputs": [
    {
     "name": "stdout",
     "output_type": "stream",
     "text": [
      "t-statistic:  1.0954451150103321\n",
      "p-value:  0.28233623728606977\n",
      "Fail to reject null hypothesis\n"
     ]
    }
   ],
   "source": [
    "import scipy.stats as stats\n",
    "\n",
    "sample_mean = 72\n",
    "sample_std = 10\n",
    "sample_size = 30\n",
    "population_mean = 70\n",
    "\n",
    "# calculate the t-statistic\n",
    "t_stat = (sample_mean - population_mean) / (sample_std / (sample_size ** 0.5))\n",
    "\n",
    "# calculate the p-value\n",
    "p_value = stats.t.sf(abs(t_stat), sample_size - 1) * 2\n",
    "\n",
    "# print the results\n",
    "print(\"t-statistic: \", t_stat)\n",
    "print(\"p-value: \", p_value)\n",
    "\n",
    "# check if the null hypothesis should be rejected\n",
    "if p_value < 0.05:\n",
    "    print(\"Reject null hypothesis\")\n",
    "else:\n",
    "    print(\"Fail to reject null hypothesis\")\n"
   ]
  },
  {
   "cell_type": "code",
   "execution_count": null,
   "metadata": {},
   "outputs": [],
   "source": []
  }
 ],
 "metadata": {
  "kernelspec": {
   "display_name": "Python 3",
   "language": "python",
   "name": "python3"
  },
  "language_info": {
   "codemirror_mode": {
    "name": "ipython",
    "version": 3
   },
   "file_extension": ".py",
   "mimetype": "text/x-python",
   "name": "python",
   "nbconvert_exporter": "python",
   "pygments_lexer": "ipython3",
   "version": "3.11.2"
  },
  "orig_nbformat": 4
 },
 "nbformat": 4,
 "nbformat_minor": 2
}
